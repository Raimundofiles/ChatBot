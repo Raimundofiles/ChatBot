{
 "cells": [
  {
   "cell_type": "code",
   "execution_count": null,
   "id": "df13c56d",
   "metadata": {
    "vscode": {
     "languageId": "plaintext"
    }
   },
   "outputs": [],
   "source": [
    "!pip install google-genai\n",
    "import os\n",
    "from google import genai\n"
   ]
  },
  {
   "cell_type": "code",
   "execution_count": null,
   "id": "4485ac12",
   "metadata": {
    "vscode": {
     "languageId": "plaintext"
    }
   },
   "outputs": [],
   "source": [
    "os.environ['GEMINI_API_KEY'] = 'chave aqui'\n"
   ]
  },
  {
   "cell_type": "code",
   "execution_count": null,
   "id": "6c09ef7b",
   "metadata": {
    "vscode": {
     "languageId": "plaintext"
    }
   },
   "outputs": [],
   "source": [
    "client = genai.Client()\n"
   ]
  },
  {
   "cell_type": "code",
   "execution_count": null,
   "id": "b02b36d5",
   "metadata": {
    "vscode": {
     "languageId": "plaintext"
    }
   },
   "outputs": [],
   "source": [
    "history = []\n",
    "print(\"Olá, Eu me Chamo Javis. Digite 'Sair' para encerrar a conversa.\\n\") # Loop de Interação\n",
    "\n",
    "\n",
    "#Loop Principal\n",
    "while True:\n",
    "    pergunta = input(\"Pergunte alguma coisa: \")\n",
    "\n",
    "    if pergunta.strip().lower() == \"sair\":\n",
    "        print(\"Encerrando o chatbot. Até logo!\")\n",
    "        break\n",
    "\n",
    "\n",
    "    #Criar conteúdo do Tipo Content com role='user'\n",
    "    user_input = genai.types.Content(\n",
    "        role=\"user\",\n",
    "        parts=[genai.types.Part(text=pergunta)]\n",
    "    )\n",
    "    #Adicionar ao histórico\n",
    "    history.append(user_input)\n",
    "\n",
    "\n",
    "    #Chama o modelo com o histórico\n",
    "    response = client.models.generate_content(\n",
    "        model=\"gemini-2.5-flash\",\n",
    "        contents=history\n",
    "    )\n",
    "\n",
    "    #Obtém a resposta e Imprime\n",
    "    resposta_texto = response.candidates[0].content.parts[0].text\n",
    "    print(\"Chatbot:\", resposta_texto)\n",
    "\n",
    "    #Adicionar resposta ao histórico\n",
    "    history.append(response.candidates[0].content)\n"
   ]
  }
 ],
 "metadata": {
  "language_info": {
   "name": "python"
  }
 },
 "nbformat": 4,
 "nbformat_minor": 5
}
